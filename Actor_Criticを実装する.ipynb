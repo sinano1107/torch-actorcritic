{
 "cells": [
  {
   "cell_type": "code",
   "execution_count": 1,
   "metadata": {},
   "outputs": [],
   "source": [
    "from pathlib import Path\n",
    "import math\n",
    "import numpy as np\n",
    "import pandas as pd\n",
    "import gymnasium\n",
    "import torch\n",
    "import torch.nn as nn\n",
    "import torch.nn.functional as F\n",
    "import torch.optim as optim\n",
    "from torch.distributions import Categorical\n",
    "import matplotlib.pyplot as plt\n",
    "import seaborn as sns\n",
    "import settings"
   ]
  },
  {
   "cell_type": "code",
   "execution_count": 2,
   "metadata": {},
   "outputs": [],
   "source": [
    "model_dir_path = Path('model')\n",
    "result_dir_path = Path('result')\n",
    "if not model_dir_path.exists():\n",
    "    model_dir_path.mkdir()\n",
    "if not result_dir_path.exists():\n",
    "    result_dir_path.mkdir()"
   ]
  },
  {
   "cell_type": "code",
   "execution_count": 3,
   "metadata": {},
   "outputs": [],
   "source": [
    "env = gymnasium.make('CartPole-v1')"
   ]
  },
  {
   "cell_type": "code",
   "execution_count": 4,
   "metadata": {},
   "outputs": [],
   "source": [
    "class Policy(nn.Module):\n",
    "    \n",
    "    def __init__(self):\n",
    "        super(Policy, self).__init__()\n",
    "        \n",
    "        self.affine = nn.Linear(4, 128)\n",
    "        \n",
    "        self.action_head = nn.Linear(128, 2)\n",
    "        self.value_head = nn.Linear(128, 1)\n",
    "        \n",
    "        self.saved_actions = []\n",
    "        self.saved_rewards = []\n",
    "    \n",
    "    def forward(self, x):\n",
    "        \n",
    "        x = F.relu(self.affine(x))\n",
    "        \n",
    "        action_prob = F.softmax(self.action_head(x), dim=-1)\n",
    "        state_values = self.value_head(x)\n",
    "        \n",
    "        return action_prob, state_values"
   ]
  },
  {
   "cell_type": "code",
   "execution_count": 5,
   "metadata": {},
   "outputs": [],
   "source": [
    "def select_action(model, state, device):\n",
    "    \n",
    "    state = torch.from_numpy(state).float()\n",
    "    probs, state_value = model(state.to(device))\n",
    "    \n",
    "    m = Categorical(probs)\n",
    "    action = m.sample()\n",
    "    model.saved_actions.append((m.log_prob(action), state_value))\n",
    "    \n",
    "    return action.item(), state_value"
   ]
  },
  {
   "cell_type": "code",
   "execution_count": 6,
   "metadata": {},
   "outputs": [],
   "source": [
    "def learn_model(model, gamma, optimizer, device):\n",
    "    \n",
    "    R = 0\n",
    "    returns = []\n",
    "    for r in model.saved_rewards[::-1]:\n",
    "        R = r + gamma * R\n",
    "        returns.insert(0, R)\n",
    "    \n",
    "    returns = torch.tensor(returns)\n",
    "    returns = (returns - returns.mean()) / (returns.std() + 1e-06)\n",
    "    \n",
    "    policy_losses = []\n",
    "    value_losses = []\n",
    "    for (log_prob, value), R in zip(model.saved_actions, returns):\n",
    "        advantage = R - value.item()\n",
    "        policy_losses.append(-log_prob * advantage)\n",
    "        value_losses.append(F.smooth_l1_loss(value, torch.tensor([R]).to(device)))\n",
    "    \n",
    "    loss = torch.stack(policy_losses).sum() + torch.stack(value_losses).sum()\n",
    "    \n",
    "    optimizer.zero_grad()\n",
    "    loss.backward()\n",
    "    optimizer.step()\n",
    "    \n",
    "    del model.saved_rewards[:]\n",
    "    del model.saved_actions[:]\n",
    "    \n",
    "    return loss"
   ]
  },
  {
   "cell_type": "code",
   "execution_count": 7,
   "metadata": {},
   "outputs": [
    {
     "name": "stderr",
     "output_type": "stream",
     "text": [
      "/Users/choumasaki/ProjectCoral/torch-actorcritic/env/lib/python3.10/site-packages/gymnasium/utils/passive_env_checker.py:233: DeprecationWarning: `np.bool8` is a deprecated alias for `np.bool_`.  (Deprecated NumPy 1.24)\n",
      "  if not isinstance(terminated, (bool, np.bool8)):\n",
      "/Users/choumasaki/ProjectCoral/torch-actorcritic/env/lib/python3.10/site-packages/gymnasium/envs/classic_control/cartpole.py:213: UserWarning: \u001b[33mWARN: You are calling render method without specifying any render mode. You can specify the render_mode at initialization, e.g. gym(\"CartPole-v1\", render_mode=\"rgb_array\")\u001b[0m\n",
      "  gym.logger.warn(\n"
     ]
    },
    {
     "name": "stdout",
     "output_type": "stream",
     "text": [
      "Episode 10\tMean Loss: 2.29\tMean Reward: 11\n",
      "Episode 20\tMean Loss: 0.28\tMean Reward: 10\n",
      "Episode 30\tMean Loss: 0.15\tMean Reward: 10\n",
      "Episode 40\tMean Loss: 0.05\tMean Reward: 10\n",
      "Episode 50\tMean Loss: 0.02\tMean Reward: 10\n",
      "Episode 60\tMean Loss: 0.01\tMean Reward: 10\n",
      "Episode 70\tMean Loss: 0.00\tMean Reward: 10\n",
      "Episode 80\tMean Loss: 0.00\tMean Reward: 10\n",
      "Episode 90\tMean Loss: 0.00\tMean Reward: 10\n",
      "Episode 100\tMean Loss: 0.00\tMean Reward: 10\n",
      "Episode 110\tMean Loss: 0.00\tMean Reward: 10\n",
      "Episode 120\tMean Loss: 0.00\tMean Reward: 10\n",
      "Episode 130\tMean Loss: 0.14\tMean Reward: 10\n",
      "Episode 140\tMean Loss: 0.05\tMean Reward: 10\n",
      "Episode 150\tMean Loss: 0.02\tMean Reward: 10\n",
      "Episode 160\tMean Loss: 0.01\tMean Reward: 10\n",
      "Episode 170\tMean Loss: 0.00\tMean Reward: 10\n",
      "Episode 180\tMean Loss: 0.00\tMean Reward: 10\n",
      "Episode 190\tMean Loss: 0.00\tMean Reward: 10\n",
      "Episode 200\tMean Loss: 0.00\tMean Reward: 10\n",
      "Episode 210\tMean Loss: 0.00\tMean Reward: 10\n",
      "Episode 220\tMean Loss: 0.00\tMean Reward: 10\n",
      "Episode 230\tMean Loss: 0.00\tMean Reward: 10\n",
      "Episode 240\tMean Loss: 0.00\tMean Reward: 10\n",
      "Episode 250\tMean Loss: 0.00\tMean Reward: 10\n",
      "Episode 260\tMean Loss: 0.00\tMean Reward: 10\n",
      "Episode 270\tMean Loss: 0.00\tMean Reward: 10\n",
      "Episode 280\tMean Loss: 0.00\tMean Reward: 10\n",
      "Episode 290\tMean Loss: 0.00\tMean Reward: 10\n",
      "Episode 300\tMean Loss: 0.46\tMean Reward: 10\n",
      "Episode 310\tMean Loss: 0.06\tMean Reward: 10\n",
      "Episode 320\tMean Loss: 13.65\tMean Reward: 45\n",
      "Episode 330\tMean Loss: 14.86\tMean Reward: 72\n",
      "Episode 340\tMean Loss: 4.08\tMean Reward: 49\n",
      "Episode 350\tMean Loss: 1.10\tMean Reward: 27\n",
      "Episode 360\tMean Loss: 1.40\tMean Reward: 34\n",
      "Episode 370\tMean Loss: 0.86\tMean Reward: 48\n",
      "Episode 380\tMean Loss: 214.34\tMean Reward: 183\n",
      "Episode 390\tMean Loss: 40.75\tMean Reward: 129\n",
      "Episode 400\tMean Loss: 36.02\tMean Reward: 107\n",
      "Episode 410\tMean Loss: 5.84\tMean Reward: 50\n",
      "Episode 420\tMean Loss: 115.49\tMean Reward: 349\n",
      "Episode 430\tMean Loss: 99.67\tMean Reward: 188\n",
      "Game Win !!\n"
     ]
    }
   ],
   "source": [
    "torch.manual_seed(settings.seed)\n",
    "device = torch.device('cpu')\n",
    "\n",
    "model = Policy()\n",
    "model = model.to(device)\n",
    "optimizer = optim.Adam(model.parameters(), lr=3e-2)\n",
    "eps = np.finfo(np.float32).eps.item()\n",
    "\n",
    "reward_result = []\n",
    "reward_displays = []\n",
    "loss_result = []\n",
    "loss_display = []\n",
    "for episode in range(1, settings.epochs + 1):\n",
    "    \n",
    "    state, _ = env.reset(seed=settings.seed)\n",
    "    episode_reward = 0\n",
    "    for t in range(1, 10000):\n",
    "        \n",
    "        action, _ = select_action(model, state, device)\n",
    "        state, reward, done, truncated, _ = env.step(action)\n",
    "        \n",
    "        if settings.flag_env_render:\n",
    "            env.render()\n",
    "        \n",
    "        model.saved_rewards.append(reward)\n",
    "        episode_reward += reward\n",
    "        if done or truncated:\n",
    "            break\n",
    "    \n",
    "    reward_displays.append(episode_reward)\n",
    "    \n",
    "    loss = learn_model(model, settings.gamma, optimizer, device)\n",
    "    loss = loss.detach().item()\n",
    "    loss_display.append(loss)\n",
    "    \n",
    "    reward_result.append(episode_reward)\n",
    "    loss_result.append(loss)\n",
    "    \n",
    "    if env.spec.max_episode_steps == np.mean(reward_displays):\n",
    "        print('Game Win !!')\n",
    "        break\n",
    "    \n",
    "    if episode % settings.display_loop == 0:\n",
    "        print('Episode {}\\tMean Loss: {:.2f}\\tMean Reward: {:.0f}'.format(episode, np.mean(loss_display), np.mean(reward_displays)))\n",
    "        reward_displays = []\n",
    "        loss_display = []\n",
    "\n",
    "\n",
    "\n",
    "model = model.to('cpu')\n",
    "torch.save(model.state_dict(), model_dir_path.joinpath('actor_critic.pth'))\n",
    "\n",
    "result = pd.DataFrame({\n",
    "    'episode': np.arange(1, len(reward_result) + 1),\n",
    "    'reward': reward_result,\n",
    "    'loss': loss_result\n",
    "})\n",
    "result.to_csv(result_dir_path.joinpath('actor_critic_cartpole_result.csv'))"
   ]
  },
  {
   "cell_type": "code",
   "execution_count": 8,
   "metadata": {},
   "outputs": [
    {
     "name": "stderr",
     "output_type": "stream",
     "text": [
      "/var/folders/gm/4cc9fs9x7c7dw5llf90n22k00000gn/T/ipykernel_5924/2974994930.py:23: UserWarning: Glyph 22577 (\\N{CJK UNIFIED IDEOGRAPH-5831}) missing from current font.\n",
      "  plt.tight_layout()\n",
      "/var/folders/gm/4cc9fs9x7c7dw5llf90n22k00000gn/T/ipykernel_5924/2974994930.py:23: UserWarning: Glyph 37228 (\\N{CJK UNIFIED IDEOGRAPH-916C}) missing from current font.\n",
      "  plt.tight_layout()\n",
      "/var/folders/gm/4cc9fs9x7c7dw5llf90n22k00000gn/T/ipykernel_5924/2974994930.py:23: UserWarning: Glyph 12398 (\\N{HIRAGANA LETTER NO}) missing from current font.\n",
      "  plt.tight_layout()\n",
      "/var/folders/gm/4cc9fs9x7c7dw5llf90n22k00000gn/T/ipykernel_5924/2974994930.py:23: UserWarning: Glyph 25512 (\\N{CJK UNIFIED IDEOGRAPH-63A8}) missing from current font.\n",
      "  plt.tight_layout()\n",
      "/var/folders/gm/4cc9fs9x7c7dw5llf90n22k00000gn/T/ipykernel_5924/2974994930.py:23: UserWarning: Glyph 31227 (\\N{CJK UNIFIED IDEOGRAPH-79FB}) missing from current font.\n",
      "  plt.tight_layout()\n",
      "/var/folders/gm/4cc9fs9x7c7dw5llf90n22k00000gn/T/ipykernel_5924/2974994930.py:23: UserWarning: Glyph 12456 (\\N{KATAKANA LETTER E}) missing from current font.\n",
      "  plt.tight_layout()\n",
      "/var/folders/gm/4cc9fs9x7c7dw5llf90n22k00000gn/T/ipykernel_5924/2974994930.py:23: UserWarning: Glyph 12500 (\\N{KATAKANA LETTER PI}) missing from current font.\n",
      "  plt.tight_layout()\n",
      "/var/folders/gm/4cc9fs9x7c7dw5llf90n22k00000gn/T/ipykernel_5924/2974994930.py:23: UserWarning: Glyph 12477 (\\N{KATAKANA LETTER SO}) missing from current font.\n",
      "  plt.tight_layout()\n",
      "/var/folders/gm/4cc9fs9x7c7dw5llf90n22k00000gn/T/ipykernel_5924/2974994930.py:23: UserWarning: Glyph 12540 (\\N{KATAKANA-HIRAGANA PROLONGED SOUND MARK}) missing from current font.\n",
      "  plt.tight_layout()\n",
      "/var/folders/gm/4cc9fs9x7c7dw5llf90n22k00000gn/T/ipykernel_5924/2974994930.py:23: UserWarning: Glyph 12489 (\\N{KATAKANA LETTER DO}) missing from current font.\n",
      "  plt.tight_layout()\n",
      "/var/folders/gm/4cc9fs9x7c7dw5llf90n22k00000gn/T/ipykernel_5924/2974994930.py:23: UserWarning: Glyph 12372 (\\N{HIRAGANA LETTER GO}) missing from current font.\n",
      "  plt.tight_layout()\n",
      "/var/folders/gm/4cc9fs9x7c7dw5llf90n22k00000gn/T/ipykernel_5924/2974994930.py:23: UserWarning: Glyph 12392 (\\N{HIRAGANA LETTER TO}) missing from current font.\n",
      "  plt.tight_layout()\n",
      "/var/folders/gm/4cc9fs9x7c7dw5llf90n22k00000gn/T/ipykernel_5924/2974994930.py:23: UserWarning: Glyph 24179 (\\N{CJK UNIFIED IDEOGRAPH-5E73}) missing from current font.\n",
      "  plt.tight_layout()\n",
      "/var/folders/gm/4cc9fs9x7c7dw5llf90n22k00000gn/T/ipykernel_5924/2974994930.py:23: UserWarning: Glyph 22343 (\\N{CJK UNIFIED IDEOGRAPH-5747}) missing from current font.\n",
      "  plt.tight_layout()\n",
      "/var/folders/gm/4cc9fs9x7c7dw5llf90n22k00000gn/T/ipykernel_5924/2974994930.py:23: UserWarning: Glyph 20516 (\\N{CJK UNIFIED IDEOGRAPH-5024}) missing from current font.\n",
      "  plt.tight_layout()\n",
      "/var/folders/gm/4cc9fs9x7c7dw5llf90n22k00000gn/T/ipykernel_5924/2974994930.py:24: UserWarning: Glyph 22577 (\\N{CJK UNIFIED IDEOGRAPH-5831}) missing from current font.\n",
      "  plt.savefig(result_dir_path.joinpath('actor_critic_cartpolcar_learning_reward.png'), dpi=300)\n",
      "/var/folders/gm/4cc9fs9x7c7dw5llf90n22k00000gn/T/ipykernel_5924/2974994930.py:24: UserWarning: Glyph 37228 (\\N{CJK UNIFIED IDEOGRAPH-916C}) missing from current font.\n",
      "  plt.savefig(result_dir_path.joinpath('actor_critic_cartpolcar_learning_reward.png'), dpi=300)\n",
      "/var/folders/gm/4cc9fs9x7c7dw5llf90n22k00000gn/T/ipykernel_5924/2974994930.py:24: UserWarning: Glyph 12398 (\\N{HIRAGANA LETTER NO}) missing from current font.\n",
      "  plt.savefig(result_dir_path.joinpath('actor_critic_cartpolcar_learning_reward.png'), dpi=300)\n",
      "/var/folders/gm/4cc9fs9x7c7dw5llf90n22k00000gn/T/ipykernel_5924/2974994930.py:24: UserWarning: Glyph 25512 (\\N{CJK UNIFIED IDEOGRAPH-63A8}) missing from current font.\n",
      "  plt.savefig(result_dir_path.joinpath('actor_critic_cartpolcar_learning_reward.png'), dpi=300)\n",
      "/var/folders/gm/4cc9fs9x7c7dw5llf90n22k00000gn/T/ipykernel_5924/2974994930.py:24: UserWarning: Glyph 31227 (\\N{CJK UNIFIED IDEOGRAPH-79FB}) missing from current font.\n",
      "  plt.savefig(result_dir_path.joinpath('actor_critic_cartpolcar_learning_reward.png'), dpi=300)\n",
      "/var/folders/gm/4cc9fs9x7c7dw5llf90n22k00000gn/T/ipykernel_5924/2974994930.py:24: UserWarning: Glyph 12456 (\\N{KATAKANA LETTER E}) missing from current font.\n",
      "  plt.savefig(result_dir_path.joinpath('actor_critic_cartpolcar_learning_reward.png'), dpi=300)\n",
      "/var/folders/gm/4cc9fs9x7c7dw5llf90n22k00000gn/T/ipykernel_5924/2974994930.py:24: UserWarning: Glyph 12500 (\\N{KATAKANA LETTER PI}) missing from current font.\n",
      "  plt.savefig(result_dir_path.joinpath('actor_critic_cartpolcar_learning_reward.png'), dpi=300)\n",
      "/var/folders/gm/4cc9fs9x7c7dw5llf90n22k00000gn/T/ipykernel_5924/2974994930.py:24: UserWarning: Glyph 12477 (\\N{KATAKANA LETTER SO}) missing from current font.\n",
      "  plt.savefig(result_dir_path.joinpath('actor_critic_cartpolcar_learning_reward.png'), dpi=300)\n",
      "/var/folders/gm/4cc9fs9x7c7dw5llf90n22k00000gn/T/ipykernel_5924/2974994930.py:24: UserWarning: Glyph 12540 (\\N{KATAKANA-HIRAGANA PROLONGED SOUND MARK}) missing from current font.\n",
      "  plt.savefig(result_dir_path.joinpath('actor_critic_cartpolcar_learning_reward.png'), dpi=300)\n",
      "/var/folders/gm/4cc9fs9x7c7dw5llf90n22k00000gn/T/ipykernel_5924/2974994930.py:24: UserWarning: Glyph 12489 (\\N{KATAKANA LETTER DO}) missing from current font.\n",
      "  plt.savefig(result_dir_path.joinpath('actor_critic_cartpolcar_learning_reward.png'), dpi=300)\n",
      "/var/folders/gm/4cc9fs9x7c7dw5llf90n22k00000gn/T/ipykernel_5924/2974994930.py:24: UserWarning: Glyph 12372 (\\N{HIRAGANA LETTER GO}) missing from current font.\n",
      "  plt.savefig(result_dir_path.joinpath('actor_critic_cartpolcar_learning_reward.png'), dpi=300)\n",
      "/var/folders/gm/4cc9fs9x7c7dw5llf90n22k00000gn/T/ipykernel_5924/2974994930.py:24: UserWarning: Glyph 12392 (\\N{HIRAGANA LETTER TO}) missing from current font.\n",
      "  plt.savefig(result_dir_path.joinpath('actor_critic_cartpolcar_learning_reward.png'), dpi=300)\n",
      "/var/folders/gm/4cc9fs9x7c7dw5llf90n22k00000gn/T/ipykernel_5924/2974994930.py:24: UserWarning: Glyph 24179 (\\N{CJK UNIFIED IDEOGRAPH-5E73}) missing from current font.\n",
      "  plt.savefig(result_dir_path.joinpath('actor_critic_cartpolcar_learning_reward.png'), dpi=300)\n",
      "/var/folders/gm/4cc9fs9x7c7dw5llf90n22k00000gn/T/ipykernel_5924/2974994930.py:24: UserWarning: Glyph 22343 (\\N{CJK UNIFIED IDEOGRAPH-5747}) missing from current font.\n",
      "  plt.savefig(result_dir_path.joinpath('actor_critic_cartpolcar_learning_reward.png'), dpi=300)\n",
      "/var/folders/gm/4cc9fs9x7c7dw5llf90n22k00000gn/T/ipykernel_5924/2974994930.py:24: UserWarning: Glyph 20516 (\\N{CJK UNIFIED IDEOGRAPH-5024}) missing from current font.\n",
      "  plt.savefig(result_dir_path.joinpath('actor_critic_cartpolcar_learning_reward.png'), dpi=300)\n",
      "/Users/choumasaki/ProjectCoral/torch-actorcritic/env/lib/python3.10/site-packages/IPython/core/pylabtools.py:152: UserWarning: Glyph 22577 (\\N{CJK UNIFIED IDEOGRAPH-5831}) missing from current font.\n",
      "  fig.canvas.print_figure(bytes_io, **kw)\n",
      "/Users/choumasaki/ProjectCoral/torch-actorcritic/env/lib/python3.10/site-packages/IPython/core/pylabtools.py:152: UserWarning: Glyph 37228 (\\N{CJK UNIFIED IDEOGRAPH-916C}) missing from current font.\n",
      "  fig.canvas.print_figure(bytes_io, **kw)\n",
      "/Users/choumasaki/ProjectCoral/torch-actorcritic/env/lib/python3.10/site-packages/IPython/core/pylabtools.py:152: UserWarning: Glyph 12398 (\\N{HIRAGANA LETTER NO}) missing from current font.\n",
      "  fig.canvas.print_figure(bytes_io, **kw)\n",
      "/Users/choumasaki/ProjectCoral/torch-actorcritic/env/lib/python3.10/site-packages/IPython/core/pylabtools.py:152: UserWarning: Glyph 25512 (\\N{CJK UNIFIED IDEOGRAPH-63A8}) missing from current font.\n",
      "  fig.canvas.print_figure(bytes_io, **kw)\n",
      "/Users/choumasaki/ProjectCoral/torch-actorcritic/env/lib/python3.10/site-packages/IPython/core/pylabtools.py:152: UserWarning: Glyph 31227 (\\N{CJK UNIFIED IDEOGRAPH-79FB}) missing from current font.\n",
      "  fig.canvas.print_figure(bytes_io, **kw)\n",
      "/Users/choumasaki/ProjectCoral/torch-actorcritic/env/lib/python3.10/site-packages/IPython/core/pylabtools.py:152: UserWarning: Glyph 12456 (\\N{KATAKANA LETTER E}) missing from current font.\n",
      "  fig.canvas.print_figure(bytes_io, **kw)\n",
      "/Users/choumasaki/ProjectCoral/torch-actorcritic/env/lib/python3.10/site-packages/IPython/core/pylabtools.py:152: UserWarning: Glyph 12500 (\\N{KATAKANA LETTER PI}) missing from current font.\n",
      "  fig.canvas.print_figure(bytes_io, **kw)\n",
      "/Users/choumasaki/ProjectCoral/torch-actorcritic/env/lib/python3.10/site-packages/IPython/core/pylabtools.py:152: UserWarning: Glyph 12477 (\\N{KATAKANA LETTER SO}) missing from current font.\n",
      "  fig.canvas.print_figure(bytes_io, **kw)\n",
      "/Users/choumasaki/ProjectCoral/torch-actorcritic/env/lib/python3.10/site-packages/IPython/core/pylabtools.py:152: UserWarning: Glyph 12540 (\\N{KATAKANA-HIRAGANA PROLONGED SOUND MARK}) missing from current font.\n",
      "  fig.canvas.print_figure(bytes_io, **kw)\n",
      "/Users/choumasaki/ProjectCoral/torch-actorcritic/env/lib/python3.10/site-packages/IPython/core/pylabtools.py:152: UserWarning: Glyph 12489 (\\N{KATAKANA LETTER DO}) missing from current font.\n",
      "  fig.canvas.print_figure(bytes_io, **kw)\n",
      "/Users/choumasaki/ProjectCoral/torch-actorcritic/env/lib/python3.10/site-packages/IPython/core/pylabtools.py:152: UserWarning: Glyph 12372 (\\N{HIRAGANA LETTER GO}) missing from current font.\n",
      "  fig.canvas.print_figure(bytes_io, **kw)\n",
      "/Users/choumasaki/ProjectCoral/torch-actorcritic/env/lib/python3.10/site-packages/IPython/core/pylabtools.py:152: UserWarning: Glyph 12392 (\\N{HIRAGANA LETTER TO}) missing from current font.\n",
      "  fig.canvas.print_figure(bytes_io, **kw)\n",
      "/Users/choumasaki/ProjectCoral/torch-actorcritic/env/lib/python3.10/site-packages/IPython/core/pylabtools.py:152: UserWarning: Glyph 24179 (\\N{CJK UNIFIED IDEOGRAPH-5E73}) missing from current font.\n",
      "  fig.canvas.print_figure(bytes_io, **kw)\n",
      "/Users/choumasaki/ProjectCoral/torch-actorcritic/env/lib/python3.10/site-packages/IPython/core/pylabtools.py:152: UserWarning: Glyph 22343 (\\N{CJK UNIFIED IDEOGRAPH-5747}) missing from current font.\n",
      "  fig.canvas.print_figure(bytes_io, **kw)\n",
      "/Users/choumasaki/ProjectCoral/torch-actorcritic/env/lib/python3.10/site-packages/IPython/core/pylabtools.py:152: UserWarning: Glyph 20516 (\\N{CJK UNIFIED IDEOGRAPH-5024}) missing from current font.\n",
      "  fig.canvas.print_figure(bytes_io, **kw)\n"
     ]
    },
    {
     "data": {
      "image/png": "[encoded data removed]",
      "text/plain": [
       "<Figure size 1200x600 with 2 Axes>"
      ]
     },
     "metadata": {},
     "output_type": "display_data"
    }
   ],
   "source": [
    "result_data = pd.read_csv(result_dir_path.joinpath('actor_critic_cartpole_result.csv'))\n",
    "\n",
    "fig = plt.figure(figsize=(12, 6), facecolor='white')\n",
    "\n",
    "ax = fig.add_subplot(1, 2, 1)\n",
    "g = sns.lineplot(\n",
    "    data=result_data,\n",
    "    x='episode', y='reward',\n",
    "    ax=ax\n",
    ")\n",
    "plt.title('報酬の推移', fontsize=18, weight='bold')\n",
    "plt.ylabel('')\n",
    "\n",
    "ax = fig.add_subplot(1, 2, 2)\n",
    "g = sns.lineplot(\n",
    "    data=result_data.assign(group=lambda x: x.episode.map(lambda y: math.floor((y - 1) / 10))),\n",
    "    x='group', y='reward',\n",
    "    ax=ax\n",
    ")\n",
    "plt.title('10エピソードごとの報酬平均値の推移', fontsize=18, weight='bold')\n",
    "plt.ylabel('')\n",
    "\n",
    "plt.tight_layout()\n",
    "plt.savefig(result_dir_path.joinpath('actor_critic_cartpolcar_learning_reward.png'), dpi=300)"
   ]
  },
  {
   "cell_type": "code",
   "execution_count": 9,
   "metadata": {},
   "outputs": [],
   "source": [
    "def select_action_valid(model, state, device):\n",
    "\n",
    "    with torch.no_grad():\n",
    "        state = torch.from_numpy(state).float()\n",
    "        probs, state_value = model(state.to(device))\n",
    "\n",
    "    return probs.argmax().item(), state_value"
   ]
  },
  {
   "cell_type": "code",
   "execution_count": 10,
   "metadata": {},
   "outputs": [
    {
     "data": {
      "text/plain": [
       "Policy(\n",
       "  (affine): Linear(in_features=4, out_features=128, bias=True)\n",
       "  (action_head): Linear(in_features=128, out_features=2, bias=True)\n",
       "  (value_head): Linear(in_features=128, out_features=1, bias=True)\n",
       ")"
      ]
     },
     "execution_count": 10,
     "metadata": {},
     "output_type": "execute_result"
    }
   ],
   "source": [
    "model = Policy()\n",
    "model.load_state_dict(torch.load(model_dir_path.joinpath('actor_critic.pth')))\n",
    "model.eval()"
   ]
  },
  {
   "cell_type": "code",
   "execution_count": 12,
   "metadata": {},
   "outputs": [
    {
     "name": "stderr",
     "output_type": "stream",
     "text": [
      "/Users/choumasaki/ProjectCoral/torch-actorcritic/env/lib/python3.10/site-packages/gymnasium/utils/passive_env_checker.py:233: DeprecationWarning: `np.bool8` is a deprecated alias for `np.bool_`.  (Deprecated NumPy 1.24)\n",
      "  if not isinstance(terminated, (bool, np.bool8)):\n"
     ]
    },
    {
     "name": "stdout",
     "output_type": "stream",
     "text": [
      "Game End Reward: 500\n"
     ]
    }
   ],
   "source": [
    "env = gymnasium.make('CartPole-v1', render_mode='human')\n",
    "state, _ = env.reset()\n",
    "episode_reward = 0\n",
    "done = False\n",
    "truncated = False\n",
    "while not done and not truncated:\n",
    "\n",
    "    action, state_value = select_action_valid(model=model, state=state, device=device)\n",
    "    state, reward, done, truncated, _ = env.step(action)\n",
    "\n",
    "    episode_reward += reward\n",
    "\n",
    "print('Game End Reward: {:.0f}'.format(episode_reward))"
   ]
  }
 ],
 "metadata": {
  "kernelspec": {
   "display_name": "Python 3",
   "language": "python",
   "name": "python3"
  },
  "language_info": {
   "codemirror_mode": {
    "name": "ipython",
    "version": 3
   },
   "file_extension": ".py",
   "mimetype": "text/x-python",
   "name": "python",
   "nbconvert_exporter": "python",
   "pygments_lexer": "ipython3",
   "version": "3.10.9"
  },
  "orig_nbformat": 4,
  "vscode": {
   "interpreter": {
    "hash": "5e0106185dcdda425711e0b013ab10effb5fac5108ad364141c5ebd23e068c8c"
   }
  }
 },
 "nbformat": 4,
 "nbformat_minor": 2
}
